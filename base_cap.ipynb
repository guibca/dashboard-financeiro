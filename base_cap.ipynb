{
  "nbformat": 4,
  "nbformat_minor": 0,
  "metadata": {
    "colab": {
      "provenance": [],
      "authorship_tag": "ABX9TyOT5/inj3omk6A/cXKozWKD",
      "include_colab_link": true
    },
    "kernelspec": {
      "name": "python3",
      "display_name": "Python 3"
    },
    "language_info": {
      "name": "python"
    }
  },
  "cells": [
    {
      "cell_type": "markdown",
      "metadata": {
        "id": "view-in-github",
        "colab_type": "text"
      },
      "source": [
        "<a href=\"https://colab.research.google.com/github/guibca/dashboard-financeiro/blob/main/base_cap.ipynb\" target=\"_parent\"><img src=\"https://colab.research.google.com/assets/colab-badge.svg\" alt=\"Open In Colab\"/></a>"
      ]
    },
    {
      "cell_type": "markdown",
      "source": [
        "##Importando bibliotecas"
      ],
      "metadata": {
        "id": "Pu2JkU4F-abd"
      }
    },
    {
      "cell_type": "code",
      "execution_count": null,
      "metadata": {
        "id": "_jm58gGy-WS1"
      },
      "outputs": [],
      "source": [
        "import pandas as pd\n",
        "import numpy as np"
      ]
    },
    {
      "cell_type": "markdown",
      "source": [
        "##Criando base fornecedores"
      ],
      "metadata": {
        "id": "H4ZJngOq-alG"
      }
    },
    {
      "cell_type": "code",
      "source": [
        "#Cria lista de fornecedores\n",
        "fornecedores = ['ORCALI SERVICOS DE LIMPEZA',\\\n",
        "                'ORSEGUPS VIGILANCIA','CASAS DA AGUA','POSTO GALO'\\\n",
        "                ,'POSTO IPIRANGA','STECANELLA MATERIAIS ELETRICOS',\\\n",
        "                'CASSOL CENTERLAR','ATACADAO SUPERMERCADO',\\\n",
        "                'CARREFOUR SUPERMERCADO','ESCRITOLANDIA UTILIDADES',\\\n",
        "                'CASAN','CELESC','TIM','NEOREDE','CLARO',\\\n",
        "                'SETUF TRANSPORTE URBANO','SODEXO ALIMENTAÇÃO','RADIO AM FM']\n",
        "\n",
        "#Cria lista de natureza financeira dos fornecedores\n",
        "natureza_fin = ['LIMPEZA','SEGURANÇA','REPARO E CONSERVAÇÃO DE INSTALAÇÕES',\\\n",
        "                'COMBUSTÍVEL','COMBUSTÍVEL','REPARO E CONSERVAÇÃO DE INSTALAÇÕES',\\\n",
        "                'REPARO E CONSERVAÇÃO DE INSTALAÇÕES','MATERIAL DE LIMPEZA E COZINHA'\\\n",
        "                ,'MATERIAL DE LIMPEZA E COZINHA','MATERIAL DE EXPEDIENTE',\\\n",
        "                'AGUA E ESGOTO','ENERGIA ELETRICA','TELEFONIA','INTERNET',\\\n",
        "                'TELEFONIA','BENEFICIOS COLABORADORES','BENEFICIOS COLABORADORES'\\\n",
        "                ,'PUBLICIDADE']\n",
        "\n",
        "#Adiciona ID de cada fornecedore\n",
        "id_fornecedor =[]\n",
        "\n",
        "for codigo in range(1, len(fornecedores)+1):\n",
        "  id_fornecedor.append(codigo)\n",
        "\n",
        "#Cria o dataframe com os dados gerados\n",
        "base_fornecedores = {'id':id_fornecedor, 'fornecedor':fornecedores, 'natureza_fin':natureza_fin}\n",
        "base_fornecedores = pd.DataFrame(base_fornecedores)"
      ],
      "metadata": {
        "id": "Pd0kMBwV-gGz"
      },
      "execution_count": null,
      "outputs": []
    },
    {
      "cell_type": "markdown",
      "source": [
        "##Criando base contas a pagar"
      ],
      "metadata": {
        "id": "kJS5M--4Cozw"
      }
    },
    {
      "cell_type": "code",
      "source": [
        "#Cria um ID para cada registro de CAP\n",
        "id_cap = []\n",
        "\n",
        "for codigo in range(1,50001):\n",
        "  id_cap.append(codigo)\n",
        "\n",
        "#Seleciona fornecedores aleatórios da lista de fornecedores\n",
        "id_fornecedor = np.random.choice(id_fornecedor, size=50000)\n",
        "\n",
        "#Seleciona valores aleatórios para as despesas\n",
        "valor = np.random.randint(low=20, high=20000, size=50000)\n",
        "\n",
        "#Seleciona vencimentos aleatórios para as despesas\n",
        "dia_vencimento = np.random.randint(low=1, high=31, size=50000)\n",
        "mes_vencimento = np.random.randint(low = 3, high = 12, size = 50000)\n",
        "\n",
        "#Cria o dataframe com os dados gerados\n",
        "base_cap = {'id':id_cap, 'id_fornecedor': id_fornecedor,'valor':valor, 'dia_vencimento':dia_vencimento, 'mes_vencimento': mes_vencimento}\n",
        "base_cap = pd.DataFrame(base_cap)\n",
        "\n",
        "#Formata a coluna de vencimento para uma data\n",
        "base_cap['vencimento'] = base_cap['dia_vencimento'].astype(str) + '/' + base_cap['mes_vencimento'].astype(str) + '/' + '2023'\n",
        "base_cap['vencimento'] = pd.to_datetime(base_cap['vencimento'], format='%d/%m/%Y')\n",
        "base_cap = base_cap.drop(['dia_vencimento', 'mes_vencimento'], axis = 1)"
      ],
      "metadata": {
        "id": "wereUgkvCj-r"
      },
      "execution_count": null,
      "outputs": []
    },
    {
      "cell_type": "markdown",
      "source": [
        "##Exportando tabelas"
      ],
      "metadata": {
        "id": "RxxYPOcDZW19"
      }
    },
    {
      "cell_type": "code",
      "source": [
        "base_fornecedores.to_csv('base_fornecedores.csv', index = False)\n",
        "base_cap.to_csv('base_cap.csv', index = False)"
      ],
      "metadata": {
        "id": "fLszYI09ZZ8S"
      },
      "execution_count": null,
      "outputs": []
    },
    {
      "cell_type": "code",
      "source": [],
      "metadata": {
        "id": "MLgfq7x3mUvC"
      },
      "execution_count": null,
      "outputs": []
    }
  ]
}